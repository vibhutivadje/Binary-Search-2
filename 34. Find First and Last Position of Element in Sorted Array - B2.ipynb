{
 "cells": [
  {
   "cell_type": "markdown",
   "metadata": {},
   "source": [
    "Given an array of integers nums sorted in ascending order, \n",
    "find the starting and ending position of a given target value.\n",
    "\n",
    "Your algorithm's runtime complexity must be in the order of O(log n).\n",
    "\n",
    "If the target is not found in the array, return [-1, -1]\n",
    "\n",
    "\n",
    "Input: nums = [5,7,7,8,8,10], target = 8\n",
    "Output: [3,4]"
   ]
  },
  {
   "cell_type": "code",
   "execution_count": 3,
   "metadata": {},
   "outputs": [
    {
     "data": {
      "text/plain": [
       "[3, 4]"
      ]
     },
     "execution_count": 3,
     "metadata": {},
     "output_type": "execute_result"
    }
   ],
   "source": [
    "def findfirstlastpos(nums, target):\n",
    "    \n",
    "    res = [-1,-1]\n",
    "    left = 0\n",
    "    right = len(nums)-1\n",
    "    \n",
    "    isleft = True #flag to go left or right\n",
    "    \n",
    "    #start with Binary search\n",
    "    while(left <= right):\n",
    "        #calculate mid \n",
    "        mid = int(left + (right - left)/2)\n",
    "        #case 1: nums[mid] == target\n",
    "        if(nums[mid] == target):\n",
    "            if isleft:\n",
    "                res[1]= mid\n",
    "                right = mid - 1\n",
    "                isleft = False\n",
    "            else:\n",
    "                res[0]= mid\n",
    "                left =  mid + 1\n",
    "#             isleft = False   \n",
    "                \n",
    "        elif nums[mid]< target:  \n",
    "                left = mid + 1\n",
    "        else:\n",
    "                right = mid - 1\n",
    "        \n",
    "    return res\n",
    "    \n",
    "findfirstlastpos(nums = [5,7,7,8,8,10], target= 8)\n",
    "#Time Complexity: O(log n)\n",
    "#Space Complexity: O(1)"
   ]
  },
  {
   "cell_type": "code",
   "execution_count": null,
   "metadata": {},
   "outputs": [],
   "source": []
  }
 ],
 "metadata": {
  "kernelspec": {
   "display_name": "Python 3",
   "language": "python",
   "name": "python3"
  },
  "language_info": {
   "codemirror_mode": {
    "name": "ipython",
    "version": 3
   },
   "file_extension": ".py",
   "mimetype": "text/x-python",
   "name": "python",
   "nbconvert_exporter": "python",
   "pygments_lexer": "ipython3",
   "version": "3.7.7"
  }
 },
 "nbformat": 4,
 "nbformat_minor": 4
}
